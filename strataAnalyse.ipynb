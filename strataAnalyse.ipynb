{
 "cells": [
  {
   "cell_type": "markdown",
   "metadata": {},
   "source": [
    "# Analyse pyBadlands stratigraphic output\n",
    "\n",
    "If the stratigraphic structure is turned on in the XmL input file, **pyBadlands** produces sedimentary layers Hdf5 files. The stratigraphic layers are defined on a regularly spaced grid and a layer is recorded at each layer time interval given by the user.\n",
    "\n",
    "Here we show how we can visualise quickly the stratigraphic architecture in an IPython notebook."
   ]
  },
  {
   "cell_type": "code",
   "execution_count": null,
   "metadata": {},
   "outputs": [],
   "source": [
    "import os\n",
    "import re\n",
    "import rdp\n",
    "import numpy as np\n",
    "import matplotlib.mlab as ml\n",
    "import matplotlib.pyplot as plt\n",
    "\n",
    "import stratalAnalyse as strata\n",
    "\n",
    "# display plots in SVG format\n",
    "%config InlineBackend.figure_format = 'svg'\n",
    "%matplotlib inline"
   ]
  },
  {
   "cell_type": "markdown",
   "metadata": {},
   "source": [
    "# 1-  Visualize predicted stratigraphic layers at the final step\n",
    "\n",
    "## Loading the stratigraphic file\n",
    "\n",
    "First we load a single stratigraphic file. The files are located in the **h5/** folder in the simulation main output folder and are named using the following convention:\n",
    "- `sed.time`T`.p`X`.hdf5`\n",
    "\n",
    "with T the display time index and X the number of the partition (used in the parallel version). In cases where you ran your simulation in parallel you will also need to give the number of CPUs used (_cpus_).\n",
    "\n",
    "To load a file you will need to give the folder name and the number of processors used in your simulation.\n",
    "\n",
    "For more information regarding the function uncomment the following line."
   ]
  },
  {
   "cell_type": "code",
   "execution_count": null,
   "metadata": {
    "collapsed": true
   },
   "outputs": [],
   "source": [
    "# help(strata.stratalSection.__init__)"
   ]
  },
  {
   "cell_type": "code",
   "execution_count": null,
   "metadata": {
    "collapsed": true
   },
   "outputs": [],
   "source": [
    "folder = '/workspace/volume/JSR-models/diff09_sea3c/h5/'\n",
    "strat = strata.stratalSection(folder)"
   ]
  },
  {
   "cell_type": "markdown",
   "metadata": {},
   "source": [
    "Then we need to load a particular output time interval (this is the T parameter in the hdf5 file name convention). Here, T = 300."
   ]
  },
  {
   "cell_type": "code",
   "execution_count": null,
   "metadata": {
    "collapsed": true
   },
   "outputs": [],
   "source": [
    "# help(strat.loadStratigraphy)"
   ]
  },
  {
   "cell_type": "code",
   "execution_count": null,
   "metadata": {
    "collapsed": true
   },
   "outputs": [],
   "source": [
    "strat.loadStratigraphy(300) "
   ]
  },
  {
   "cell_type": "markdown",
   "metadata": {},
   "source": [
    "## Building a cross-section\n",
    "\n",
    "We then slice the stratigraphic mesh to visualise the sedimentary architecture along a given cross-section.\n",
    "\n",
    "To create the cross-section you will need to provide:\n",
    "+ the position of the segment in the simulation space _(xo,yo)_ and _(xm,ym)_, \n",
    "+ a gaussian filter value for smoothing (_gfilt_ a value of 0 can be used for non-smoothing) and \n",
    "+ the resolution of the cross-section (based on a number of points: _nbpts_). "
   ]
  },
  {
   "cell_type": "code",
   "execution_count": null,
   "metadata": {
    "collapsed": true
   },
   "outputs": [],
   "source": [
    "# Build a cross-section along X axis\n",
    "x1 = strat.xi.min()\n",
    "x2 = strat.xi.max()\n",
    "y1 = 100000\n",
    "y2 = 100000\n",
    "\n",
    "# Interpolation parameters\n",
    "nbpts = strat.nx\n",
    "gfilt = 1"
   ]
  },
  {
   "cell_type": "code",
   "execution_count": null,
   "metadata": {
    "collapsed": true
   },
   "outputs": [],
   "source": [
    "# help(strat.buildSection)"
   ]
  },
  {
   "cell_type": "code",
   "execution_count": null,
   "metadata": {
    "collapsed": true
   },
   "outputs": [],
   "source": [
    "strat.buildSection(xo = x1, yo = y1, xm = x2, ym = y2, pts = nbpts, gfilter = gfilt)"
   ]
  },
  {
   "cell_type": "markdown",
   "metadata": {},
   "source": [
    "## Visualize the stratal stacking pattern\n",
    "\n",
    "We use **plotly** to visualise the vertival cross-section of stratal stacking apttern."
   ]
  },
  {
   "cell_type": "code",
   "execution_count": null,
   "metadata": {
    "collapsed": true
   },
   "outputs": [],
   "source": [
    "# help(strata.viewSection)"
   ]
  },
  {
   "cell_type": "code",
   "execution_count": null,
   "metadata": {},
   "outputs": [],
   "source": [
    "strata.viewSection(width = 800, height = 500, cs = strat, \n",
    "            dnlay = 5, rangeX=[140000, 250000], rangeY=[-800,50],\n",
    "            linesize = 0.3, title='Stratal stacking pattern coloured by time')"
   ]
  },
  {
   "cell_type": "markdown",
   "metadata": {},
   "source": [
    "# 2- Analyze predicted stratal architecture based on successive outputs\n",
    "\n",
    "The stratigraphic analysis in this section include: \n",
    "\n",
    "2.1 reconstruct the stratal architecture (stratal stacking pattern, Wheeler diagram, and vertical stacking pattern);\n",
    "\n",
    "2.2 interpret the synthetic depositional cycles using trajectory analysis ([Helland-Hansen & Hampson (2009)](http://onlinelibrary.wiley.com/wol1/doi/10.1111/j.1365-2117.2009.00425.x/full)) and the accommodation succession method ([Neal & Abreu (2009)](https://www.researchgate.net/publication/249521744_Sequence_stratigraphy_hierarchy_and_the_accommodation_succession_method)).\n",
    "\n",
    "By reading successive outputs, we calculate the **shorleine trajectory, shelf-edge trajectory, changes in accommodation creation $\\delta A$ and sedimentation $\\delta S$**.\n",
    "\n",
    "In this example, 300 outputs are recorded (**`nbout`**). We use a loop to read the output every 5 timesteps (**`nstep`**). "
   ]
  },
  {
   "cell_type": "code",
   "execution_count": null,
   "metadata": {
    "collapsed": true
   },
   "outputs": [],
   "source": [
    "# read multi outputs\n",
    "folder = '/workspace/volume/JSR-models/diff09_sea3c/h5/'\n",
    "strat_all = {}\n",
    "nbout = 300 \n",
    "nstep = 5\n",
    "# read the first layer\n",
    "strat_all[0] = strata.stratalSection(folder)\n",
    "strat_all[0].loadStratigraphy_multi(1,nstep)\n",
    "k = 1\n",
    "for i in range(nstep,nbout+1,nstep):\n",
    "    strat_all[k] = strata.stratalSection(folder)\n",
    "    strat_all[k].loadStratigraphy_multi(i,nstep)\n",
    "    k += 1"
   ]
  },
  {
   "cell_type": "markdown",
   "metadata": {},
   "source": [
    "## Build cross-section for each sedimentary layer"
   ]
  },
  {
   "cell_type": "code",
   "execution_count": null,
   "metadata": {
    "collapsed": true
   },
   "outputs": [],
   "source": [
    "nbcs = len(strat_all)\n",
    "for i in range(0,nbcs):\n",
    "    strat_all[i].buildSection_multi(xo = x1, yo = y1, xm = x2, ym = y2, pts = nbpts, gfilter = gfilt)"
   ]
  },
  {
   "cell_type": "markdown",
   "metadata": {},
   "source": [
    "## Read the sea-level value for each stratigraphic layer"
   ]
  },
  {
   "cell_type": "code",
   "execution_count": null,
   "metadata": {
    "collapsed": true
   },
   "outputs": [],
   "source": [
    "# Read sea-level file\n",
    "sea = []\n",
    "time = []\n",
    "step=300\n",
    "folder1 = '/workspace/volume/JSR-models/diff09_sea3c/'\n",
    "for  k in range(0, step+1):\n",
    "    with open(folder1+'/xmf/tin.time'+str(k)+'.xmf') as fp: \n",
    "        line = fp.readline()\n",
    "        cnt = 1\n",
    "        while line:\n",
    "            if 'Time' in line:\n",
    "                val = [float(s) for s in re.findall(r'-?\\d+\\.?\\d*', line)]\n",
    "                time.append(val[0])\n",
    "            if 'Function' in line:\n",
    "                val = [float(s) for s in re.findall(r'-?\\d+\\.?\\d*', line)]\n",
    "                sea.append(val[2])\n",
    "            line = fp.readline()\n",
    "            cnt += 1"
   ]
  },
  {
   "cell_type": "code",
   "execution_count": null,
   "metadata": {},
   "outputs": [],
   "source": [
    "# Extract the sea level corresponds to each extracted stratigraphic layer: 1, 10, 20, ..., 300. 31 layers in total.\n",
    "Sealevel = np.zeros(nbcs)\n",
    "Time = np.zeros(nbcs)\n",
    "Sealevel[0] = sea[1]\n",
    "Time[0] = time[1]\n",
    "p = 1\n",
    "for i in range(nstep,nbout+1,nstep):\n",
    "    Sealevel[p] = sea[i]\n",
    "    Time[p] = time[i]\n",
    "    p += 1\n",
    "\n",
    "# View sea level curve\n",
    "strata.viewData(x0 = Time, y0 = Sealevel, width = 600, height = 400, linesize = 3, \n",
    "                color = '#6666FF',title='Sea-level curve',xlegend='Time [yr]',ylegend='Sea-level position [m]')"
   ]
  },
  {
   "cell_type": "markdown",
   "metadata": {},
   "source": [
    "## Calculate shoreline and shelf-edge trajectories, $\\delta A$ and $\\delta S$\n",
    "\n",
    "* shoreline position at a specific time is defined as the position whose elevation equals to the sea level at that time;\n",
    "* shelf-edge position is defined by a critical slope ($\\pi$*0.0001);\n",
    "* $\\delta A$ is calculated as changes in water depth;\n",
    "$\\delta S$ is calculated as sedimentation rate.\n",
    "\n",
    "See the figure below:\n",
    "<img src=\"images/Traj_AS.png\" alt=\"Trajectory and AS\"  width=\"500\" height=\"400\" border=\"10\" />"
   ]
  },
  {
   "cell_type": "code",
   "execution_count": null,
   "metadata": {
    "collapsed": true
   },
   "outputs": [],
   "source": [
    "# help(strat.buildParameters)"
   ]
  },
  {
   "cell_type": "code",
   "execution_count": null,
   "metadata": {
    "collapsed": true
   },
   "outputs": [],
   "source": [
    "strat.buildParameters(CS = strat_all, Sealevel = Sealevel, min_angle = np.pi*0.0001)"
   ]
  },
  {
   "cell_type": "markdown",
   "metadata": {
    "collapsed": true
   },
   "source": [
    "# 2.1- Reconstruct the stratal architecture\n",
    "\n",
    "## Build paleo-depositional environment structure\n",
    "\n",
    "We define paleo-depositional environments (depositional facies) based on deposition depth, and colour the depositional facies differently. For example,\n",
    "\n",
    "| Facies  | **coastal plain** | **shoreface** | **shelf** | **upper slope** | **middle slope** | **lower slope** | **deep marine** |\n",
    "| :-----------: |:-----------:|:-----------:|:-----------:|:-----------:|:-----------:|:-----------:|:-----------:|\n",
    "|Paleo-depth/m| above sea level | 0~10 | 10~50 | 50~200 | 200~500 | 500~800 | >800 |\n",
    "|Colour| limegreen | darkkhaki | sandybrown | khaki | c | teal | teal |"
   ]
  },
  {
   "cell_type": "code",
   "execution_count": null,
   "metadata": {
    "collapsed": true
   },
   "outputs": [],
   "source": [
    "# Specify the range of water depth for each depositional environment\n",
    "depthIDs = [-10, 0, 10, 50, 200, 500, 800]\n",
    "colors = ['limegreen','darkkhaki','sandybrown','khaki','c','teal','teal','white']\n",
    "\n",
    "# Get the position of depositional environments on each extracted layer\n",
    "enviID = np.zeros((len(depthIDs), nbcs))\n",
    "for i in range(nbcs):\n",
    "    enviID[:,i] = strata.depthID(cs = strat_all[i], sealevel = Sealevel[i], depthIDs = depthIDs)\n",
    "\n",
    "# Add the endpoint of deposition to the depositional environments extent\n",
    "EnviID = np.append(enviID, [strat.depoend], axis=0).astype(int)\n",
    "EnviID_dist = strat.dist[EnviID]"
   ]
  },
  {
   "cell_type": "markdown",
   "metadata": {},
   "source": [
    "## Plot stratal stacking pattern\n",
    "\n",
    "It takes a bit long..."
   ]
  },
  {
   "cell_type": "code",
   "execution_count": null,
   "metadata": {
    "collapsed": true
   },
   "outputs": [],
   "source": [
    "strata.viewStrata(width = 9, height = 4, cs = strat, enviID = EnviID, dnlay = nstep, colors = colors,\n",
    "                      rangeX = [140000, 250000], rangeY = [800, -50], linesize = 0.3, title = 'Cross section')"
   ]
  },
  {
   "cell_type": "markdown",
   "metadata": {},
   "source": [
    "## Plot Wheeler diagram\n",
    "\n",
    "Wheeler diagram (or chronostratigraphic chart) is a powerful tool to document unconformities between sequences, and to understand the stacking patterns of sedimentary successions and their relationship to sea level. It displays the horizontal distribution of contemporaneous sedimentary layer sequences, as well as hiatuses in sedimentation. "
   ]
  },
  {
   "cell_type": "code",
   "execution_count": null,
   "metadata": {
    "collapsed": true
   },
   "outputs": [],
   "source": [
    "timeMA = [x/1e6 for x in Time]  # change the unit to be Myr\n",
    "\n",
    "strata.viewWheeDiag(width = 9, height = 4, cs = strat, enviID = EnviID_dist, dnlay = nstep, time = timeMA, \n",
    "                    colors = colors, rangeX = [140000, 250000], rangeY = [0,30], \n",
    "                    dt_height = 0.9, title = 'Wheeler Diagram')"
   ]
  },
  {
   "cell_type": "markdown",
   "metadata": {
    "collapsed": true
   },
   "source": [
    "## Plot vertical stacking patterns (synthetic wells)\n",
    "\n",
    "To plot the vertical stacking at one location, we need the thickness of each stratigraphic layer and its depositional facies."
   ]
  },
  {
   "cell_type": "code",
   "execution_count": null,
   "metadata": {
    "collapsed": true
   },
   "outputs": [],
   "source": [
    "# Define the location of wells on the cross-section (m)\n",
    "posit = np.array([160000, 180000, 200000, 220000, 240000])\n",
    "# The index of these well locations\n",
    "positID = (posit/strat.dx).astype(int) + 1\n",
    "color = ['white','limegreen','darkkhaki','sandybrown','khaki','c','teal']\n",
    "\n",
    "# Extract the thickness of each layer for each well\n",
    "layth = []\n",
    "for m in positID:\n",
    "    nz = strat.nz-1\n",
    "    layth.append(strat.secDep[nz][m])\n",
    "    for n in range(1,nbcs-1):\n",
    "        layth.append(-sum(strat.secTh[(nz-n*nstep):(nz-(n-1)*nstep)])[m])\n",
    "layTh = np.reshape(layth, (len(positID), nbcs-1))\n",
    "\n",
    "# Build the structure of depositional facies corresponded to colors\n",
    "color_fill = []\n",
    "for i in positID:\n",
    "    p = 0\n",
    "    for j in range(0,strat.nz,nstep):\n",
    "        if (strat.secElev[j][i]) > (- depthIDs[0]):\n",
    "            color_fill.append(color[0])\n",
    "        elif (strat.secElev[j][i]) > (- depthIDs[1]):\n",
    "            color_fill.append(color[0])\n",
    "        elif (strat.secElev[j][i]) > (- depthIDs[2]):\n",
    "            color_fill.append(color[1])\n",
    "        elif (strat.secElev[j][i]) > (- depthIDs[3]):\n",
    "            color_fill.append(color[2])\n",
    "        elif (strat.secElev[j][i]) > (- depthIDs[4]):\n",
    "            color_fill.append(color[3])\n",
    "        elif (strat.secElev[j][i]) > (- depthIDs[5]):\n",
    "            color_fill.append(color[4])\n",
    "        else:\n",
    "            color_fill.append(color[5])\n",
    "        p+=1\n",
    "colorFill = np.reshape(color_fill, (len(positID), p))"
   ]
  },
  {
   "cell_type": "code",
   "execution_count": null,
   "metadata": {
    "collapsed": true
   },
   "outputs": [],
   "source": [
    "# Plot vertical stacking (wells)\n",
    "strata.viewStack(width = 4, height = 5, layTh = layTh, colorFill = colorFill)"
   ]
  },
  {
   "cell_type": "markdown",
   "metadata": {},
   "source": [
    "# 2.2-  Stratigraphic interpretations\n",
    "\n",
    "Based on calculated shoreline and shelf-edge trajectories, $\\delta A$ and $\\delta S$, we define trajectory classes and stacking patterns accordingly, as illustrated in the figure below: <img src=\"images/Interpretation.png\" alt=\"Interpretation methods\"  width=\"700\" height=\"400\" border=\"10\" />"
   ]
  },
  {
   "cell_type": "markdown",
   "metadata": {},
   "source": [
    "## 2.2.1- Shoreline trajectory analysis and interpretations\n",
    "\n",
    "## Visualize shoreline trajectory and its gradient"
   ]
  },
  {
   "cell_type": "code",
   "execution_count": null,
   "metadata": {},
   "outputs": [],
   "source": [
    "dispTime = 1e5\n",
    "xval = Time/dispTime\n",
    "yval = strat_all[0].dist[strat.shoreID]\n",
    "gval = np.gradient(yval)\n",
    "\n",
    "# View shoreline position through time\n",
    "strata.viewData(x0 = xval, y0 = yval, width = 800, height = 500, linesize = 3, color = '#6666FF',\n",
    "               title='Shoreline trajectory',xlegend='display step',ylegend='shoreline position in metres')\n",
    "\n",
    "# Define the gradient evolution\n",
    "strata.viewData(x0 = xval, y0 = gval, width = 800, height = 500, linesize = 3, color = '#f4a142',\n",
    "               title='Shoreline trajectory gradient',xlegend='display step',ylegend='gradient shoreline position')"
   ]
  },
  {
   "cell_type": "code",
   "execution_count": null,
   "metadata": {
    "collapsed": true
   },
   "outputs": [],
   "source": [
    "# Default color used: \n",
    "TTC = 'rgba(56,110,164,0.8)'\n",
    "DRTC = 'rgba(60,165,67,0.8)'  \n",
    "ARTC = 'rgba(112,54,127,0.8)'\n",
    "STC = 'rgba(252,149,7,0.8)'\n",
    "\n",
    "# You can change them by specifying new values in the function\n",
    "STcolors_ST = strata.build_ShoreTrajectory(xval,yval,gval,Sealevel,nbout,\n",
    "                                           cTC=TTC,cDRC=DRTC,cARC=ARTC,cSTC=STC)"
   ]
  },
  {
   "cell_type": "markdown",
   "metadata": {},
   "source": [
    "## Plotting the resulting shoreline trajectory classes"
   ]
  },
  {
   "cell_type": "code",
   "execution_count": null,
   "metadata": {},
   "outputs": [],
   "source": [
    "strata.viewSectionST(width = 800, height = 500, cs = strat, colors = STcolors_ST, \n",
    "                     dnlay = 5, rangeX=[140000, 250000], rangeY=[-800,50], \n",
    "                     linesize = 0.5, title = 'Classes interpreted based on shoreline trajectory (ST)')"
   ]
  },
  {
   "cell_type": "markdown",
   "metadata": {},
   "source": [
    "## 2.2.2- Accommodation succession analysis and interpretations\n",
    "\n",
    "## Visualize $\\delta A$ and $\\delta S$"
   ]
  },
  {
   "cell_type": "code",
   "execution_count": null,
   "metadata": {},
   "outputs": [],
   "source": [
    "xval = Time/dispTime\n",
    "ASval = np.array(strat.accom_shore)-np.array(strat.sed_shore)\n",
    "gval = np.gradient(ASval)\n",
    "\n",
    "# Accommodation (A) and sedimentation (S) change differences\n",
    "strata.viewData(x0 = xval, y0 = ASval, width = 800, height = 500, linesize = 3, \n",
    "                color = '#6666FF',title='Change between accomodation & sedimentation',xlegend='display step',\n",
    "                ylegend='A-S')\n",
    "\n",
    "# Define the gradient evolution\n",
    "strata.viewData(x0 = xval, y0 = gval, width = 800, height = 500, linesize = 3, color = '#f4a142',\n",
    "               title='A&S gradient',xlegend='display step',ylegend='gradient A&S')"
   ]
  },
  {
   "cell_type": "code",
   "execution_count": null,
   "metadata": {
    "collapsed": true
   },
   "outputs": [],
   "source": [
    "# Default color used: \n",
    "R = 'rgba(51,79,217,0.8)' \n",
    "PA = 'rgba(252,149,7,0.8)' \n",
    "APD= 'rgba(15,112,2,0.8)'\n",
    "\n",
    "# You can change them by specifying new values in the function\n",
    "STcolors_AS = strata.build_AccomSuccession(xval,ASval,gval,nbout,cR=R,cPA=PA,cAPD=APD)"
   ]
  },
  {
   "cell_type": "markdown",
   "metadata": {},
   "source": [
    "## Plotting the resulting accommodation succession sequence sets"
   ]
  },
  {
   "cell_type": "code",
   "execution_count": null,
   "metadata": {},
   "outputs": [],
   "source": [
    "strata.viewSectionST(width = 800, height = 500, cs = strat, colors = STcolors_AS, dnlay = 5, \n",
    "                     rangeX=[140000, 250000], rangeY=[-800,50], linesize = 0.5, \n",
    "                     title = 'Sequence sets interpreted based on change of accommodation and sedimentation (AS)')"
   ]
  }
 ],
 "metadata": {
  "anaconda-cloud": {},
  "kernelspec": {
   "display_name": "Python 2",
   "language": "python",
   "name": "python2"
  },
  "language_info": {
   "codemirror_mode": {
    "name": "ipython",
    "version": 2
   },
   "file_extension": ".py",
   "mimetype": "text/x-python",
   "name": "python",
   "nbconvert_exporter": "python",
   "pygments_lexer": "ipython2",
   "version": "2.7.6"
  }
 },
 "nbformat": 4,
 "nbformat_minor": 1
}
