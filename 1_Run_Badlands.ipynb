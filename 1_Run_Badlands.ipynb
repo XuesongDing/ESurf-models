{
 "cells": [
  {
   "cell_type": "markdown",
   "metadata": {},
   "source": [
    "# 1- Model settings\n",
    "\n",
    "We setup a source-to-sink case. The initial surface is 300 km by 200 km with the space resolution of 0.5 km. It includes a mountain range (source area), a gently-sloping coastal plain (transfer zone), and a continental margin consisting of a continetal shelf, a slope and an oceanic basin (sink area).\n",
    "  \n",
    "<img src=\"images/Geometry.png\" alt=\"Initial surface\"  width=\"600\" height=\"500\" border=\"10\" />\n",
    "\n",
    "See specific parameters in the table below:\n",
    "\n",
    "|   | Mountain | Plain | Continental shelf | Continental slope | Oceanic basin|\n",
    "| :-----------: |:-----------:|:-----------:|:-----------:|:-----------:|:-----------:|\n",
    "|Width/km| 100 | 50 | 100 | 30 | 20 |\n",
    "|Elevation/m| 1000~200 | 200~0 | 0~-250 | -250~-1000 | -1000|\n",
    "|Slope| 0.008 | 0.004 | 0.0025 | 0.025 | 0.0 |\n",
    "\n",
    "The model duration spans over 30 Myr with display intervals every 0.1 Myr. Forcing conditions include:\n",
    "* climate: spatially and temporally uniform rainfall rate of **2.0 m/yr**;\n",
    "* sea-level input, see **1.1**;\n",
    "* thermal subsidence over continental margin, see **1.2**."
   ]
  },
  {
   "cell_type": "markdown",
   "metadata": {},
   "source": [
    "## 1.1- Generate a sea-level curve\n",
    "\n",
    "Here we consider the effects of long-term eustatic cycles and assume that eustasy is independent of climate and local tectonics. For simplicity, the eustatic sea level is modeled using a sinusoidal curve. It consists of three 10 Myr cycles of 50 m amplitude, which correspond to second- to third-order eustatic fluctuations ([Vail, etal., 1977](http://archives.datapages.com/data/specpubs/seismic1/data/a165/a165/0001/0050/0083.htm)).\n",
    "\n",
    "The sea-level file (**CSV format**) provides for each line the following information:\n",
    "* Time in years,\n",
    "* Sea-level elevation for the considered time in meters.\n",
    "\n",
    "Detailed information of creating a sea-level curve can be found in [**this**](https://github.com/badlands-model/pyBadlands-Companion/blob/master/notebooks/seaLevel.ipynb) notebook."
   ]
  },
  {
   "cell_type": "code",
   "execution_count": null,
   "metadata": {},
   "outputs": [],
   "source": [
    "import numpy as np\n",
    "import matplotlib.mlab as ml\n",
    "import matplotlib.pyplot as plt\n",
    "%matplotlib inline\n",
    "\n",
    "# Import badlands grid generation toolbox\n",
    "import badlands_companion.toolSea as tools\n",
    "\n",
    "# display plots in SVG format\n",
    "%config InlineBackend.figure_format = 'svg' "
   ]
  },
  {
   "cell_type": "code",
   "execution_count": null,
   "metadata": {},
   "outputs": [],
   "source": [
    "sea = tools.toolSea()\n",
    "\n",
    "# Create the sea-level curve \n",
    "sea.buildCurve(timeExt = [0.,30000000.], timeStep = 100000., seaExt = [-25.,-25.], \n",
    "                   ampExt = [25.,25.], periodExt = [10000000.,10000000.])\n",
    "\n",
    "# Visualize the sea-level curve\n",
    "sea.plotCurves(fsize=(6,8), figName = 'Sea level')"
   ]
  },
  {
   "cell_type": "code",
   "execution_count": null,
   "metadata": {},
   "outputs": [],
   "source": [
    "# Export sea-level dataset\n",
    "sea.exportCurve(nameCSV='sealevel')"
   ]
  },
  {
   "cell_type": "markdown",
   "metadata": {},
   "source": [
    "## 1.2- Generate thermal subsidence curve\n",
    "\n",
    "A simple stretching model from McKenzie ([1978](https://www.sciencedirect.com/science/article/pii/0012821X78900717)) is applied in this study, in which subsidence is produced by thermal relaxation following an episode of extension. The equation to derive the subsidence $S$ at time $t$ is: \n",
    "\n",
    "$$ S(t) = E_0 r - E_0 e^{(-t/\\tau)} $$ \n",
    "\n",
    "where $E_0 = 4a\\rho_0\\alpha T_1/\\pi^2(\\rho_0-\\rho_w)$, $r = \\frac{\\beta}{\\pi}sin(\\frac{\\pi}{\\beta})$, $a = 125$km is the thickness of lithosphere, $\\rho_0 = 3300$ $\\mathrm{kg/m^{3}}$ the density of the mantle at 0 $\\mathrm{^oC}$, $\\rho_w =1000$ $\\mathrm{kg/m^{3}}$ the density of seawater, $\\alpha = 3.28\\times10^{-5}$ $\\mathrm{K^{-1}}$ the thermal expansion coefficient for both the mantle and the crust, $T_1 = 1333$ $\\mathrm{^oC}$ the temperature of the asthenosphere, and $\\tau = 62.8$ Myr the characteristic thermal diffusion time.\n",
    "\n"
   ]
  },
  {
   "cell_type": "code",
   "execution_count": null,
   "metadata": {},
   "outputs": [],
   "source": [
    "# Calculate thermal subsidence over continental margin\n",
    "E0 = 3200.0  # m\n",
    "tao = 62.8e6  # yr\n",
    "dist = np.linspace(0,150,301) \n",
    "beta = 1.0/100.0*dist+1.0\n",
    "r = (beta/np.pi)*np.sin(np.pi/beta)\n",
    "subsidence = (E0*r*np.exp(0/tao) - E0*r*np.exp(-30e6/tao))*2/3\n",
    "\n",
    "# Visualize total thermal subsidence in 30 Myr along the margin\n",
    "plt.plot(dist,subsidence)\n",
    "plt.xlim(0, 150)\n",
    "plt.ylim(650, 0)\n",
    "plt.xlabel(\"Distance from initial shoreline (km)\")\n",
    "plt.ylabel(\"Subsidence (m)\")"
   ]
  },
  {
   "cell_type": "code",
   "execution_count": null,
   "metadata": {},
   "outputs": [],
   "source": [
    "# Export thermal subsidence dataset\n",
    "f = open(\"thermsub\"+\".csv\", \"w\")\n",
    "for j in range(0,401):\n",
    "    for i in range(0,300):\n",
    "        f.write( str(0) + \"\\n\"  )\n",
    "    for i in range(300,601):\n",
    "        f.write( str(-subsidence[i-300]) + \"\\n\"  )\n",
    "f.close()"
   ]
  },
  {
   "cell_type": "markdown",
   "metadata": {},
   "source": [
    "# 2- Start pyBadlands"
   ]
  },
  {
   "cell_type": "code",
   "execution_count": null,
   "metadata": {},
   "outputs": [],
   "source": [
    "from badlands.model import Model as badlandsModel\n",
    "\n",
    "# Initialise model\n",
    "model = badlandsModel()\n",
    "# Define the XmL input file\n",
    "model.load_xml('input_gmd.xml')"
   ]
  },
  {
   "cell_type": "markdown",
   "metadata": {},
   "source": [
    "# 3- Run the model"
   ]
  },
  {
   "cell_type": "code",
   "execution_count": null,
   "metadata": {},
   "outputs": [],
   "source": [
    "# Run model for 30 Myr.\n",
    "model.run_to_time(30000000)"
   ]
  },
  {
   "cell_type": "code",
   "execution_count": null,
   "metadata": {},
   "outputs": [],
   "source": []
  }
 ],
 "metadata": {
  "anaconda-cloud": {},
  "kernelspec": {
   "display_name": "Python 3",
   "language": "python",
   "name": "python3"
  },
  "language_info": {
   "codemirror_mode": {
    "name": "ipython",
    "version": 3
   },
   "file_extension": ".py",
   "mimetype": "text/x-python",
   "name": "python",
   "nbconvert_exporter": "python",
   "pygments_lexer": "ipython3",
   "version": "3.5.3"
  }
 },
 "nbformat": 4,
 "nbformat_minor": 1
}
